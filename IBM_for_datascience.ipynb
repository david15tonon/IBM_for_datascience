{
  "nbformat": 4,
  "nbformat_minor": 0,
  "metadata": {
    "colab": {
      "provenance": []
    },
    "kernelspec": {
      "name": "python3",
      "display_name": "Python 3"
    },
    "language_info": {
      "name": "python"
    }
  },
  "cells": [
    {
      "cell_type": "markdown",
      "source": [
        "# Exercice 2 - My IBM first Notebook\n",
        "## Final Project : Introduction to datascience"
      ],
      "metadata": {
        "id": "voUX5hhS1OHg"
      }
    },
    {
      "cell_type": "markdown",
      "source": [
        "# Exercice 3 - Introduction\n",
        "This notebook is an introduction to the basic concepts of data science. It covers languages, libraries, tools, and includes some practical examples to illustrate the fundamental concepts."
      ],
      "metadata": {
        "id": "u93EIGRD1MUt"
      }
    },
    {
      "cell_type": "markdown",
      "source": [
        "# Exercise 4 - Data Science Languages\n",
        "The languages commonly used in data science are:\n",
        "- Python\n",
        "- R\n",
        "- SQL\n",
        "- Julia\n",
        "- Scala"
      ],
      "metadata": {
        "id": "6nPC001q1pgI"
      }
    },
    {
      "cell_type": "markdown",
      "source": [
        "# Exercise 5 - Data Science Libraries\n",
        "The popular libraries in data science include:\n",
        "- Pandas (Data manipulation)\n",
        "- NumPy (Numerical computation)\n",
        "- Matplotlib (Data visualization)\n",
        "- Scikit-learn (Machine learning)\n",
        "- TensorFlow (Deep learning)"
      ],
      "metadata": {
        "id": "dNCsHgZp1rFy"
      }
    },
    {
      "cell_type": "markdown",
      "source": [
        "# Exercise 6 - Data Science Tools Table\n",
        "| Tool                | Usage                                   |\n",
        "|---------------------|-----------------------------------------|\n",
        "| Jupyter Notebook    | Interactive environment for coding      |\n",
        "| Tableau             | Data visualization                      |\n",
        "| Apache Spark        | Large-scale data processing             |\n",
        "| Hadoop              | Storage and processing of massive data  |\n",
        "| Power BI            | Data analysis and visualization         |"
      ],
      "metadata": {
        "id": "lppP2lcU10SY"
      }
    },
    {
      "cell_type": "markdown",
      "source": [
        "# Exercise 7 - Examples of Arithmetic Expressions  \n",
        "Here are some examples of arithmetic expressions:  \n",
        "- Addition: `5 + 3 = 8`  \n",
        "- Subtraction: `10 - 4 = 6`  \n",
        "- Multiplication: `7 * 2 = 14`  \n",
        "- Division: `20 / 5 = 4`  \n",
        "- Exponentiation: `2 ** 3 = 8`"
      ],
      "metadata": {
        "id": "H-ZKBlcM18L_"
      }
    },
    {
      "cell_type": "markdown",
      "source": [
        "# Exercise 8 - Multiply and Add Numbers  \n",
        "## Example code to multiply and add"
      ],
      "metadata": {
        "id": "SmdCSZjD2hsT"
      }
    },
    {
      "cell_type": "code",
      "execution_count": 2,
      "metadata": {
        "colab": {
          "base_uri": "https://localhost:8080/"
        },
        "id": "EpbWaqzN0tcR",
        "outputId": "19365b6f-e325-477a-e14d-b9aca4b5eeb4"
      },
      "outputs": [
        {
          "output_type": "stream",
          "name": "stdout",
          "text": [
            "Multiplication of 5 and 3 : 15\n",
            "Addition of 5 and 3 : 8\n"
          ]
        }
      ],
      "source": [
        "\n",
        "a = 5\n",
        "b = 3\n",
        "multiplication = a * b\n",
        "addition = a + b\n",
        "\n",
        "print(f\"Multiplication of {a} and {b} : {multiplication}\")\n",
        "print(f\"Addition of {a} and {b} : {addition}\")"
      ]
    },
    {
      "cell_type": "markdown",
      "source": [
        "# Exercise 9 - Convert Minutes to Hours  \n",
        "## Example code to convert 150 minutes to hours"
      ],
      "metadata": {
        "id": "Fe-RtMQR2ojx"
      }
    },
    {
      "cell_type": "code",
      "source": [
        "\n",
        "minutes = 150\n",
        "hours = minutes // 60\n",
        "remaining_minutes = minutes % 60\n",
        "\n",
        "print(f\"{minutes} minutes is equivalent to {hours} hours and {remaining_minutes} minutes.\")"
      ],
      "metadata": {
        "colab": {
          "base_uri": "https://localhost:8080/"
        },
        "id": "epkSBnoE2d36",
        "outputId": "5dfbfcc8-6ef5-4467-875d-51665265c960"
      },
      "execution_count": 4,
      "outputs": [
        {
          "output_type": "stream",
          "name": "stdout",
          "text": [
            "150 minutes is equivalent to 2 hours and 30 minutes.\n"
          ]
        }
      ]
    },
    {
      "cell_type": "markdown",
      "source": [
        "# Exercise 10 - Objectives  \n",
        "The objectives of this project are:  \n",
        "1. Understand the basics of data science.  \n",
        "2. Explore the languages and tools used in this field.  \n",
        "3. Apply arithmetic and programming concepts.  \n",
        "4. Create a complete and structured Jupyter notebook."
      ],
      "metadata": {
        "id": "VBC1lPoK2y_t"
      }
    },
    {
      "cell_type": "markdown",
      "source": [
        "# Exercise 11 - Author's Name  \n",
        "**Author:** David TONON"
      ],
      "metadata": {
        "id": "6EAWeyOe20qr"
      }
    }
  ]
}